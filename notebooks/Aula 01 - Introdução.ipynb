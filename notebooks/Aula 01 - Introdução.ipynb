{
 "cells": [
  {
   "cell_type": "markdown",
   "id": "804d2aff-42a3-4258-8cc5-cd6dee4d082f",
   "metadata": {},
   "source": [
    "# Curso de Introdução ao Python\n",
    "\n",
    "Prof.: José Roberto S. de Moura\n",
    "\n",
    "contato: jose.moura@iesb.edu.br\n",
    "\n",
    "\n",
    "Estrutura do Curso:\n",
    "\n",
    "- Serão 9 aulas de 4 horas cada, divididos em duas partes, seguindo a seguinte ordem:\n",
    "    - Parte I\n",
    "        - Aula 01: Introdução ao Python - Revisão\n",
    "        - Aula 02: Biblioteca Numpy\n",
    "        - Aula 03: Biblioteca Pandas\n",
    "        - Aula 04: Pré-processamento de dados e visualização de dados\n",
    "    - Parte II\n",
    "        - Aula 05: Biblioteca Scikit-Learning\n",
    "        - Aula 06: Problema de Classificação\n",
    "        - Aula 07: Problema de Regressão\n",
    "        - Aula 08: Biblioteca statsmodel\n",
    "        - Aula 09: Projeto de ponta-a-ponta em 4 horas (mini hackathon)\n",
    "- Todo o material trabalhado em sala com os alunos, será disponibilizado no dia anterior a cada aula.\n",
    "\n",
    "### Bibliografia\n",
    "\n",
    "- Parte I: Wes Mckinney, Python para Análise de Dados: Tratamento de daods com Pandas, Numpy e IPython, O'Reilly (Novatec)\n",
    " \n",
    "<img src=\"https://images-na.ssl-images-amazon.com/images/I/71DBpD6-brL.jpg\" alt=\"drawing\" width=\"200\"/>    \n",
    "\n",
    "- Parte II: Aurélien Géron, Hands-on Machine Learning with Scikit-Learning & Tensorflow, O'Reilly, 2nd ed\n",
    "\n",
    "<img src=\"https://images-na.ssl-images-amazon.com/images/I/71P4atQpTbL.jpg\" alt=\"drawing\" width=\"200\"/>    \n"
   ]
  },
  {
   "cell_type": "markdown",
   "id": "32accb7a-b0f6-4c51-8ef9-655796658714",
   "metadata": {},
   "source": [
    "## Aula 01: Revisitando Python\n",
    "\n",
    "### Básico da Linguagem Python\n",
    "\n",
    "- É uma linguagem ideal para quem está começando na área de coding\n",
    "- A mais usada na área de dados, com um amplo ecosistema para análise de dados\n",
    "- Amplamente usada para construção de modelos de machine learning\n",
    "- Versão atual: 3.10\n",
    "- É uma linguagem interpretada e não compilada\n"
   ]
  },
  {
   "cell_type": "markdown",
   "id": "52d84426",
   "metadata": {},
   "source": [
    "### Variáveis e Operações Básicas\n"
   ]
  },
  {
   "cell_type": "code",
   "execution_count": 1,
   "id": "86634b39",
   "metadata": {},
   "outputs": [],
   "source": [
    "a = 2"
   ]
  },
  {
   "cell_type": "code",
   "execution_count": 2,
   "id": "b8e0ef6a",
   "metadata": {},
   "outputs": [
    {
     "data": {
      "text/plain": [
       "int"
      ]
     },
     "execution_count": 2,
     "metadata": {},
     "output_type": "execute_result"
    }
   ],
   "source": [
    "type(a)"
   ]
  },
  {
   "cell_type": "code",
   "execution_count": 3,
   "id": "f1320979",
   "metadata": {},
   "outputs": [],
   "source": [
    "b: int = 3."
   ]
  },
  {
   "cell_type": "code",
   "execution_count": 4,
   "id": "1c6b3edf",
   "metadata": {},
   "outputs": [
    {
     "data": {
      "text/plain": [
       "float"
      ]
     },
     "execution_count": 4,
     "metadata": {},
     "output_type": "execute_result"
    }
   ],
   "source": [
    "type(b)"
   ]
  },
  {
   "cell_type": "code",
   "execution_count": 5,
   "id": "66cda1e6",
   "metadata": {},
   "outputs": [
    {
     "data": {
      "text/plain": [
       "str"
      ]
     },
     "execution_count": 5,
     "metadata": {},
     "output_type": "execute_result"
    }
   ],
   "source": [
    "c = '23'\n",
    "type(c)"
   ]
  },
  {
   "cell_type": "code",
   "execution_count": 6,
   "id": "f4cf4a8c",
   "metadata": {},
   "outputs": [
    {
     "data": {
      "text/plain": [
       "int"
      ]
     },
     "execution_count": 6,
     "metadata": {},
     "output_type": "execute_result"
    }
   ],
   "source": [
    "cc = int(c)\n",
    "type(cc)"
   ]
  },
  {
   "cell_type": "code",
   "execution_count": 7,
   "id": "2fd3cbba",
   "metadata": {},
   "outputs": [],
   "source": [
    "string = \"Oi 23 turminha\""
   ]
  },
  {
   "cell_type": "code",
   "execution_count": 8,
   "id": "6082aff7",
   "metadata": {},
   "outputs": [
    {
     "ename": "ValueError",
     "evalue": "invalid literal for int() with base 10: 'Oi 23 turminha'",
     "output_type": "error",
     "traceback": [
      "\u001b[1;31m---------------------------------------------------------------------------\u001b[0m",
      "\u001b[1;31mValueError\u001b[0m                                Traceback (most recent call last)",
      "Input \u001b[1;32mIn [8]\u001b[0m, in \u001b[0;36m<cell line: 1>\u001b[1;34m()\u001b[0m\n\u001b[1;32m----> 1\u001b[0m \u001b[38;5;28;43mint\u001b[39;49m\u001b[43m(\u001b[49m\u001b[43mstring\u001b[49m\u001b[43m)\u001b[49m\n",
      "\u001b[1;31mValueError\u001b[0m: invalid literal for int() with base 10: 'Oi 23 turminha'"
     ]
    }
   ],
   "source": [
    "int(string)"
   ]
  },
  {
   "cell_type": "markdown",
   "id": "15bc05f6",
   "metadata": {},
   "source": [
    "### Operações Condicionais"
   ]
  },
  {
   "cell_type": "code",
   "execution_count": null,
   "id": "65111496",
   "metadata": {},
   "outputs": [],
   "source": [
    "# if-elif-else\n",
    "a = 10\n",
    "if a % 2 == 0:\n",
    "    print('{} é par'.format(a))\n",
    "else:\n",
    "    print(f'{a} não é par')"
   ]
  },
  {
   "cell_type": "code",
   "execution_count": null,
   "id": "842844a1",
   "metadata": {},
   "outputs": [],
   "source": []
  },
  {
   "cell_type": "markdown",
   "id": "feba3c3d",
   "metadata": {},
   "source": [
    "### Loops"
   ]
  },
  {
   "cell_type": "code",
   "execution_count": null,
   "id": "7d4f5c95",
   "metadata": {},
   "outputs": [],
   "source": [
    "#for <iter> in <collection>:\n",
    "#    faça alguma coisa\n",
    "\n",
    "for a in range(11):\n",
    "    if a % 2 == 0:\n",
    "        print('{} é par'.format(a))\n",
    "    else:\n",
    "        print(f'{a} não é par')\n"
   ]
  },
  {
   "cell_type": "code",
   "execution_count": null,
   "id": "d67baff4",
   "metadata": {},
   "outputs": [],
   "source": [
    "def is_par(x):\n",
    "    if x % 2 == 0:\n",
    "        return True\n",
    "    else:\n",
    "        return False"
   ]
  },
  {
   "cell_type": "code",
   "execution_count": null,
   "id": "4405b4fb",
   "metadata": {},
   "outputs": [],
   "source": [
    "is_par(3)"
   ]
  },
  {
   "cell_type": "code",
   "execution_count": 9,
   "id": "910a004a",
   "metadata": {},
   "outputs": [],
   "source": [
    "def test_range(n):\n",
    "    ll = []\n",
    "    for i in range(n+1):\n",
    "        ll.append(is_par(i))\n",
    "    return ll"
   ]
  },
  {
   "cell_type": "code",
   "execution_count": 10,
   "id": "1a37bafd",
   "metadata": {},
   "outputs": [
    {
     "ename": "NameError",
     "evalue": "name 'is_par' is not defined",
     "output_type": "error",
     "traceback": [
      "\u001b[1;31m---------------------------------------------------------------------------\u001b[0m",
      "\u001b[1;31mNameError\u001b[0m                                 Traceback (most recent call last)",
      "Input \u001b[1;32mIn [10]\u001b[0m, in \u001b[0;36m<cell line: 1>\u001b[1;34m()\u001b[0m\n\u001b[1;32m----> 1\u001b[0m var \u001b[38;5;241m=\u001b[39m \u001b[43mtest_range\u001b[49m\u001b[43m(\u001b[49m\u001b[38;5;241;43m10\u001b[39;49m\u001b[43m)\u001b[49m\n",
      "Input \u001b[1;32mIn [9]\u001b[0m, in \u001b[0;36mtest_range\u001b[1;34m(n)\u001b[0m\n\u001b[0;32m      2\u001b[0m ll \u001b[38;5;241m=\u001b[39m []\n\u001b[0;32m      3\u001b[0m \u001b[38;5;28;01mfor\u001b[39;00m i \u001b[38;5;129;01min\u001b[39;00m \u001b[38;5;28mrange\u001b[39m(n\u001b[38;5;241m+\u001b[39m\u001b[38;5;241m1\u001b[39m):\n\u001b[1;32m----> 4\u001b[0m     ll\u001b[38;5;241m.\u001b[39mappend(\u001b[43mis_par\u001b[49m(i))\n\u001b[0;32m      5\u001b[0m \u001b[38;5;28;01mreturn\u001b[39;00m ll\n",
      "\u001b[1;31mNameError\u001b[0m: name 'is_par' is not defined"
     ]
    }
   ],
   "source": [
    "var = test_range(10) "
   ]
  },
  {
   "cell_type": "code",
   "execution_count": 11,
   "id": "669c5c34",
   "metadata": {},
   "outputs": [
    {
     "ename": "NameError",
     "evalue": "name 'var' is not defined",
     "output_type": "error",
     "traceback": [
      "\u001b[1;31m---------------------------------------------------------------------------\u001b[0m",
      "\u001b[1;31mNameError\u001b[0m                                 Traceback (most recent call last)",
      "Input \u001b[1;32mIn [11]\u001b[0m, in \u001b[0;36m<cell line: 1>\u001b[1;34m()\u001b[0m\n\u001b[1;32m----> 1\u001b[0m \u001b[43mvar\u001b[49m\n",
      "\u001b[1;31mNameError\u001b[0m: name 'var' is not defined"
     ]
    }
   ],
   "source": [
    "var"
   ]
  },
  {
   "cell_type": "code",
   "execution_count": null,
   "id": "6fcac5d4",
   "metadata": {},
   "outputs": [],
   "source": []
  },
  {
   "cell_type": "markdown",
   "id": "5c0d1f31",
   "metadata": {},
   "source": [
    "### Estruturas de Dados\n",
    "\n",
    "- Tuplas :: são imutáveis, uma vez que tanto seus elementos, quanto seu tamanho sejam definidos, não são mais alterados.\n",
    "\n",
    "- Listas :: estão no espectro oposto das tuplas, podendo ter tanto seus elementos, quanto tamanho alterados.\n",
    "\n",
    "- Dicionários :: estrutura do tipo chave-valor (hash-map)."
   ]
  },
  {
   "cell_type": "code",
   "execution_count": 12,
   "id": "ab2332cf",
   "metadata": {},
   "outputs": [],
   "source": [
    "# Tuplas\n",
    "\n",
    "t = (2, 2), (3, 2, 3)\n"
   ]
  },
  {
   "cell_type": "code",
   "execution_count": 13,
   "id": "a97fdf42",
   "metadata": {},
   "outputs": [
    {
     "data": {
      "text/plain": [
       "((2, 2), (3, 2, 3))"
      ]
     },
     "execution_count": 13,
     "metadata": {},
     "output_type": "execute_result"
    }
   ],
   "source": [
    "t"
   ]
  },
  {
   "cell_type": "code",
   "execution_count": 14,
   "id": "10becbc0",
   "metadata": {},
   "outputs": [],
   "source": [
    "string = \"IESB\""
   ]
  },
  {
   "cell_type": "code",
   "execution_count": 15,
   "id": "8b1255f6",
   "metadata": {},
   "outputs": [],
   "source": [
    "iesb_t = tuple(string)"
   ]
  },
  {
   "cell_type": "code",
   "execution_count": 16,
   "id": "a6a52437",
   "metadata": {},
   "outputs": [
    {
     "data": {
      "text/plain": [
       "('I', 'E', 'S', 'B')"
      ]
     },
     "execution_count": 16,
     "metadata": {},
     "output_type": "execute_result"
    }
   ],
   "source": [
    "iesb_t"
   ]
  },
  {
   "cell_type": "code",
   "execution_count": 17,
   "id": "bb41620a",
   "metadata": {},
   "outputs": [
    {
     "data": {
      "text/plain": [
       "'S'"
      ]
     },
     "execution_count": 17,
     "metadata": {},
     "output_type": "execute_result"
    }
   ],
   "source": [
    "iesb_t[2]"
   ]
  },
  {
   "cell_type": "code",
   "execution_count": 18,
   "id": "81f340f1",
   "metadata": {},
   "outputs": [
    {
     "data": {
      "text/plain": [
       "(1, 2, 2, 2, 1, 1, 1, 2)"
      ]
     },
     "execution_count": 18,
     "metadata": {},
     "output_type": "execute_result"
    }
   ],
   "source": [
    "count_tuple = (1, 2, 2, 2, 1, 1, 1, 2)\n",
    "count_tuple"
   ]
  },
  {
   "cell_type": "code",
   "execution_count": 19,
   "id": "3969a219",
   "metadata": {},
   "outputs": [
    {
     "data": {
      "text/plain": [
       "4"
      ]
     },
     "execution_count": 19,
     "metadata": {},
     "output_type": "execute_result"
    }
   ],
   "source": [
    "count_tuple.count(2)"
   ]
  },
  {
   "cell_type": "code",
   "execution_count": 20,
   "id": "b274915b",
   "metadata": {},
   "outputs": [
    {
     "data": {
      "text/plain": [
       "4"
      ]
     },
     "execution_count": 20,
     "metadata": {},
     "output_type": "execute_result"
    }
   ],
   "source": [
    "count_tuple.count(1)"
   ]
  },
  {
   "cell_type": "markdown",
   "id": "dcbf66bd",
   "metadata": {},
   "source": [
    "#### Listas\n",
    "\n",
    "São mutávei e amplamente usadas"
   ]
  },
  {
   "cell_type": "code",
   "execution_count": 21,
   "id": "67fb19c4",
   "metadata": {},
   "outputs": [],
   "source": [
    "list_1 = [4, 3, 2, 5]"
   ]
  },
  {
   "cell_type": "code",
   "execution_count": 22,
   "id": "4a1699a2",
   "metadata": {},
   "outputs": [
    {
     "data": {
      "text/plain": [
       "['I', 'E', 'S', 'B']"
      ]
     },
     "execution_count": 22,
     "metadata": {},
     "output_type": "execute_result"
    }
   ],
   "source": [
    "iesb_l = list(iesb_t)\n",
    "iesb_l"
   ]
  },
  {
   "cell_type": "code",
   "execution_count": 23,
   "id": "b296f1c0",
   "metadata": {},
   "outputs": [
    {
     "data": {
      "text/plain": [
       "4"
      ]
     },
     "execution_count": 23,
     "metadata": {},
     "output_type": "execute_result"
    }
   ],
   "source": [
    "len(iesb_l)"
   ]
  },
  {
   "cell_type": "code",
   "execution_count": 24,
   "id": "d0e3ea5f",
   "metadata": {},
   "outputs": [
    {
     "data": {
      "text/plain": [
       "'I'"
      ]
     },
     "execution_count": 24,
     "metadata": {},
     "output_type": "execute_result"
    }
   ],
   "source": [
    "iesb_l[0]"
   ]
  },
  {
   "cell_type": "code",
   "execution_count": 25,
   "id": "917feffe",
   "metadata": {},
   "outputs": [
    {
     "data": {
      "text/plain": [
       "[0, 1, 2, 3, 4, 5, 6, 7, 8, 9]"
      ]
     },
     "execution_count": 25,
     "metadata": {},
     "output_type": "execute_result"
    }
   ],
   "source": [
    "x = [i  for i in range(10)]\n",
    "x"
   ]
  },
  {
   "cell_type": "code",
   "execution_count": 26,
   "id": "d7572456",
   "metadata": {},
   "outputs": [
    {
     "data": {
      "text/plain": [
       "[0, 1, 2, 3, 4, 5, 6, 7, 8, 9, 10]"
      ]
     },
     "execution_count": 26,
     "metadata": {},
     "output_type": "execute_result"
    }
   ],
   "source": [
    "x.append(10)\n",
    "x"
   ]
  },
  {
   "cell_type": "code",
   "execution_count": 27,
   "id": "67dec7cf",
   "metadata": {},
   "outputs": [],
   "source": [
    "x.insert(2, 1.5)"
   ]
  },
  {
   "cell_type": "code",
   "execution_count": 28,
   "id": "4e2aeab1",
   "metadata": {},
   "outputs": [
    {
     "data": {
      "text/plain": [
       "[0, 1, 1.5, 2, 3, 4, 5, 6, 7, 8, 9, 10]"
      ]
     },
     "execution_count": 28,
     "metadata": {},
     "output_type": "execute_result"
    }
   ],
   "source": [
    "x"
   ]
  },
  {
   "cell_type": "code",
   "execution_count": 29,
   "id": "c3550689",
   "metadata": {},
   "outputs": [],
   "source": [
    "var_1 = x.pop(2)"
   ]
  },
  {
   "cell_type": "code",
   "execution_count": 30,
   "id": "8e51e172",
   "metadata": {},
   "outputs": [
    {
     "data": {
      "text/plain": [
       "[0, 1, 2, 3, 4, 5, 6, 7, 8, 9, 10]"
      ]
     },
     "execution_count": 30,
     "metadata": {},
     "output_type": "execute_result"
    }
   ],
   "source": [
    "x"
   ]
  },
  {
   "cell_type": "code",
   "execution_count": 31,
   "id": "96046fc4",
   "metadata": {},
   "outputs": [
    {
     "data": {
      "text/plain": [
       "1.5"
      ]
     },
     "execution_count": 31,
     "metadata": {},
     "output_type": "execute_result"
    }
   ],
   "source": [
    "var_1"
   ]
  },
  {
   "cell_type": "code",
   "execution_count": 32,
   "id": "b50c8c9b",
   "metadata": {},
   "outputs": [],
   "source": [
    "y = [10, 9, 8, 7, 6]"
   ]
  },
  {
   "cell_type": "code",
   "execution_count": 33,
   "id": "2f332b76",
   "metadata": {},
   "outputs": [
    {
     "data": {
      "text/plain": [
       "[0, 1, 2, 3, 4, 5, 6, 7, 8, 9, 10, 10, 9, 8, 7, 6]"
      ]
     },
     "execution_count": 33,
     "metadata": {},
     "output_type": "execute_result"
    }
   ],
   "source": [
    "z = x + y\n",
    "z"
   ]
  },
  {
   "cell_type": "code",
   "execution_count": 34,
   "id": "ab12a13c",
   "metadata": {},
   "outputs": [],
   "source": [
    "m = [None, 2, 'foo']"
   ]
  },
  {
   "cell_type": "code",
   "execution_count": 35,
   "id": "02e97556",
   "metadata": {},
   "outputs": [
    {
     "data": {
      "text/plain": [
       "[0, 1, 2, 3, 4, 5, 6, 7, 8, 9, 10, None, 2, 'foo']"
      ]
     },
     "execution_count": 35,
     "metadata": {},
     "output_type": "execute_result"
    }
   ],
   "source": [
    "x.extend(m)\n",
    "x"
   ]
  },
  {
   "cell_type": "code",
   "execution_count": 36,
   "id": "d6854b8b",
   "metadata": {},
   "outputs": [
    {
     "data": {
      "text/plain": [
       "True"
      ]
     },
     "execution_count": 36,
     "metadata": {},
     "output_type": "execute_result"
    }
   ],
   "source": [
    "2 in x"
   ]
  },
  {
   "cell_type": "code",
   "execution_count": 37,
   "id": "da8e5d9c",
   "metadata": {},
   "outputs": [
    {
     "name": "stdout",
     "output_type": "stream",
     "text": [
      "0\n",
      "1\n",
      "2\n",
      "3\n",
      "4\n",
      "5\n",
      "6\n",
      "7\n",
      "8\n",
      "9\n",
      "10\n",
      "nada\n",
      "nada\n",
      "nada\n",
      "nada\n",
      "nada\n",
      "nada\n",
      "nada\n",
      "nada\n",
      "nada\n"
     ]
    }
   ],
   "source": [
    "for i in range(20):\n",
    "    if i in x:\n",
    "        print(i)\n",
    "    else:\n",
    "        print('nada')"
   ]
  },
  {
   "cell_type": "code",
   "execution_count": 38,
   "id": "9eb41f69",
   "metadata": {},
   "outputs": [
    {
     "data": {
      "text/plain": [
       "[3, 5, 2, 1, 10]"
      ]
     },
     "execution_count": 38,
     "metadata": {},
     "output_type": "execute_result"
    }
   ],
   "source": [
    "xx = [3, 5, 2, 1, 10]\n",
    "xx"
   ]
  },
  {
   "cell_type": "code",
   "execution_count": 39,
   "id": "dc2d7dd3",
   "metadata": {},
   "outputs": [
    {
     "data": {
      "text/plain": [
       "[1, 2, 3, 5, 10]"
      ]
     },
     "execution_count": 39,
     "metadata": {},
     "output_type": "execute_result"
    }
   ],
   "source": [
    "xx.sort()\n",
    "xx"
   ]
  },
  {
   "cell_type": "code",
   "execution_count": 40,
   "id": "b1b117ce",
   "metadata": {},
   "outputs": [
    {
     "data": {
      "text/plain": [
       "['aa', 'a', 'casa']"
      ]
     },
     "execution_count": 40,
     "metadata": {},
     "output_type": "execute_result"
    }
   ],
   "source": [
    "palavras = ['aa', 'a', 'casa']\n",
    "palavras"
   ]
  },
  {
   "cell_type": "code",
   "execution_count": 41,
   "id": "e0341b6d",
   "metadata": {},
   "outputs": [
    {
     "data": {
      "text/plain": [
       "['a', 'aa', 'casa']"
      ]
     },
     "execution_count": 41,
     "metadata": {},
     "output_type": "execute_result"
    }
   ],
   "source": [
    "palavras.sort(key=len)\n",
    "palavras"
   ]
  },
  {
   "cell_type": "code",
   "execution_count": 42,
   "id": "8d0fc9af",
   "metadata": {},
   "outputs": [
    {
     "name": "stdout",
     "output_type": "stream",
     "text": [
      "0: 0\n",
      "1: 1\n",
      "2: 2\n",
      "3: 3\n",
      "4: 4\n",
      "5: 5\n",
      "6: 6\n",
      "7: 7\n",
      "8: 8\n",
      "9: 9\n",
      "10: 10\n",
      "11: 10\n",
      "12: 9\n",
      "13: 8\n",
      "14: 7\n",
      "15: 6\n"
     ]
    }
   ],
   "source": [
    "# Algumas funções built-in das listas\n",
    "# enumerate >> retorna uma seqüência de tuplas da forma (idx, valor)\n",
    "\n",
    "for i, value in enumerate(z):\n",
    "    print(f'{i}: {value}')\n"
   ]
  },
  {
   "cell_type": "code",
   "execution_count": 43,
   "id": "1eed9705",
   "metadata": {},
   "outputs": [
    {
     "data": {
      "text/plain": [
       "[(0, 0),\n",
       " (1, 1),\n",
       " (2, 2),\n",
       " (3, 3),\n",
       " (4, 4),\n",
       " (5, 5),\n",
       " (6, 6),\n",
       " (7, 7),\n",
       " (8, 8),\n",
       " (9, 9),\n",
       " (10, 10),\n",
       " (11, 10),\n",
       " (12, 9),\n",
       " (13, 8),\n",
       " (14, 7),\n",
       " (15, 6)]"
      ]
     },
     "execution_count": 43,
     "metadata": {},
     "output_type": "execute_result"
    }
   ],
   "source": [
    "list(enumerate(z))"
   ]
  },
  {
   "cell_type": "code",
   "execution_count": 44,
   "id": "ae35c94a",
   "metadata": {},
   "outputs": [],
   "source": [
    "# zip() >> pareia os elementos de uma série, na forma de tuplas\n",
    "seq_1 = ['foo', 'bar', 'bu']\n",
    "seq_2 = [1, 2, 3]\n",
    "seq_3 = [4, 5, 6]"
   ]
  },
  {
   "cell_type": "code",
   "execution_count": 45,
   "id": "e5e3320d",
   "metadata": {},
   "outputs": [
    {
     "data": {
      "text/plain": [
       "[('foo', 1, 4), ('bar', 2, 5), ('bu', 3, 6)]"
      ]
     },
     "execution_count": 45,
     "metadata": {},
     "output_type": "execute_result"
    }
   ],
   "source": [
    "zipped = zip(seq_1, seq_2, seq_3)\n",
    "list(zipped)"
   ]
  },
  {
   "cell_type": "code",
   "execution_count": 46,
   "id": "4f9fbf53",
   "metadata": {},
   "outputs": [
    {
     "data": {
      "text/plain": [
       "[4, 3, 2, 1]"
      ]
     },
     "execution_count": 46,
     "metadata": {},
     "output_type": "execute_result"
    }
   ],
   "source": [
    "list(reversed([1, 2, 3, 4]))"
   ]
  },
  {
   "cell_type": "markdown",
   "id": "9505b696-68df-4da1-be37-f8070d0a80c0",
   "metadata": {},
   "source": [
    "Problema: temos uma lista com o nome de estados, mas com alguns erros de digitação. Ver lista abaixo. Crie uma função que pegue cada um dos elementos (nomes dos estados) e padronize para a forma usual.\n",
    "\n",
    "Exmplo:\n",
    "    dado <são paulo!> sua função deve retornar São Paulo"
   ]
  },
  {
   "cell_type": "code",
   "execution_count": 47,
   "id": "ce02aaba-07a2-470e-9157-6d270a9d0f42",
   "metadata": {},
   "outputs": [],
   "source": [
    "estados = [\"são paulo!\", \"#Pernambuco\", \"rio De Janeiro \", \"Minas gErais\"]"
   ]
  },
  {
   "cell_type": "code",
   "execution_count": 48,
   "id": "6bd15c8b-cf4a-4fdd-ae54-5e814509dfe1",
   "metadata": {},
   "outputs": [],
   "source": [
    "import re\n",
    "def clean_name(strings):\n",
    "    result = []\n",
    "    for string in strings:\n",
    "        string = string.strip()\n",
    "        string = re.sub('[!#]', '', string)\n",
    "        string = string.title()\n",
    "        result.append(string)\n",
    "    return result"
   ]
  },
  {
   "cell_type": "markdown",
   "id": "32f925f7-ad13-4023-a599-e43144c5a156",
   "metadata": {},
   "source": [
    "Dicas:\n",
    "- use a biblioteca ```re.sub()```\n",
    "- ```string.strip()```\n",
    "- ```string.title()```"
   ]
  },
  {
   "cell_type": "code",
   "execution_count": 49,
   "id": "436e9feb-0157-482b-9339-e6c76d1292c8",
   "metadata": {},
   "outputs": [
    {
     "data": {
      "text/plain": [
       "['São Paulo', 'Pernambuco', 'Rio De Janeiro', 'Minas Gerais']"
      ]
     },
     "execution_count": 49,
     "metadata": {},
     "output_type": "execute_result"
    }
   ],
   "source": [
    "clean_name(estados)"
   ]
  },
  {
   "cell_type": "code",
   "execution_count": 50,
   "id": "10270dc0-0fde-4f4d-99b4-6c97997a348a",
   "metadata": {},
   "outputs": [],
   "source": [
    "def remove_punctuation(value):\n",
    "    return re.sub('[!#]', '', value)"
   ]
  },
  {
   "cell_type": "code",
   "execution_count": 51,
   "id": "c1d448a2-3f0c-41c7-956a-d01d597a6bc0",
   "metadata": {},
   "outputs": [],
   "source": [
    "ops_clear = [str.strip, remove_punctuation, str.title]"
   ]
  },
  {
   "cell_type": "code",
   "execution_count": 52,
   "id": "5e18edbd-beb4-4d73-9670-70e45587a86a",
   "metadata": {},
   "outputs": [],
   "source": [
    "def clean_name_func(strings, ops):\n",
    "    result = []\n",
    "    for string in strings:\n",
    "        for function in ops:\n",
    "            string = function(string)\n",
    "        result.append(string)\n",
    "    return result"
   ]
  },
  {
   "cell_type": "code",
   "execution_count": 53,
   "id": "eff0bcf4-27df-407d-8585-9bd02c778b1d",
   "metadata": {},
   "outputs": [
    {
     "data": {
      "text/plain": [
       "['São Paulo', 'Pernambuco', 'Rio De Janeiro', 'Minas Gerais']"
      ]
     },
     "execution_count": 53,
     "metadata": {},
     "output_type": "execute_result"
    }
   ],
   "source": [
    "clean_name_func(estados, ops_clear)"
   ]
  },
  {
   "cell_type": "markdown",
   "id": "f59d694d-c211-440f-917e-27baa7a7c556",
   "metadata": {},
   "source": [
    "#### Dicionários\n",
    "\n",
    "Conhecidos como hash-map, são estruturas do tipo chave-valor"
   ]
  },
  {
   "cell_type": "code",
   "execution_count": 54,
   "id": "79bc5d52-461f-4235-b666-cc848f4145bd",
   "metadata": {},
   "outputs": [],
   "source": [
    "joao = { 'nome': 'João Silva',\n",
    "         'idade': 99}"
   ]
  },
  {
   "cell_type": "code",
   "execution_count": 55,
   "id": "edeb5803-21b0-4162-bf2b-0ad579709cc8",
   "metadata": {},
   "outputs": [
    {
     "data": {
      "text/plain": [
       "{'nome': 'João Silva', 'idade': 99}"
      ]
     },
     "execution_count": 55,
     "metadata": {},
     "output_type": "execute_result"
    }
   ],
   "source": [
    "joao"
   ]
  },
  {
   "cell_type": "code",
   "execution_count": 56,
   "id": "4a766663-196c-4651-b7d3-ac6bfb0e35c5",
   "metadata": {},
   "outputs": [
    {
     "data": {
      "text/plain": [
       "dict"
      ]
     },
     "execution_count": 56,
     "metadata": {},
     "output_type": "execute_result"
    }
   ],
   "source": [
    "type(joao)"
   ]
  },
  {
   "cell_type": "code",
   "execution_count": 57,
   "id": "fbc2b917-f29c-40a5-acc5-9b27368a9702",
   "metadata": {},
   "outputs": [
    {
     "data": {
      "text/plain": [
       "'João Silva'"
      ]
     },
     "execution_count": 57,
     "metadata": {},
     "output_type": "execute_result"
    }
   ],
   "source": [
    "joao[\"nome\"]"
   ]
  },
  {
   "cell_type": "code",
   "execution_count": 58,
   "id": "f529a010-f575-44ed-896f-ee39da941cd0",
   "metadata": {},
   "outputs": [],
   "source": [
    "joao[\"idade\"] = 100"
   ]
  },
  {
   "cell_type": "code",
   "execution_count": 59,
   "id": "96759536-1c14-4a57-b822-b8842226918c",
   "metadata": {},
   "outputs": [
    {
     "data": {
      "text/plain": [
       "100"
      ]
     },
     "execution_count": 59,
     "metadata": {},
     "output_type": "execute_result"
    }
   ],
   "source": [
    "joao[\"idade\"]"
   ]
  },
  {
   "cell_type": "code",
   "execution_count": 60,
   "id": "c843adee-2de6-434f-9a03-c2c5a5bcfe67",
   "metadata": {},
   "outputs": [],
   "source": [
    "joao[\"telefone\"] = \"555443321\""
   ]
  },
  {
   "cell_type": "code",
   "execution_count": 61,
   "id": "d7eb53d3-dc2b-40eb-955e-00fa8558e057",
   "metadata": {},
   "outputs": [
    {
     "data": {
      "text/plain": [
       "{'nome': 'João Silva', 'idade': 100, 'telefone': '555443321'}"
      ]
     },
     "execution_count": 61,
     "metadata": {},
     "output_type": "execute_result"
    }
   ],
   "source": [
    "joao"
   ]
  },
  {
   "cell_type": "code",
   "execution_count": 62,
   "id": "1b93208e-dc9c-4fe6-92b0-72e65ba0d122",
   "metadata": {},
   "outputs": [],
   "source": [
    "tel = joao.pop('telefone')"
   ]
  },
  {
   "cell_type": "code",
   "execution_count": 63,
   "id": "3ef36b29-2051-4483-bb87-fe8de86fad2b",
   "metadata": {},
   "outputs": [
    {
     "data": {
      "text/plain": [
       "'555443321'"
      ]
     },
     "execution_count": 63,
     "metadata": {},
     "output_type": "execute_result"
    }
   ],
   "source": [
    "tel"
   ]
  },
  {
   "cell_type": "code",
   "execution_count": 64,
   "id": "3c1a4ed9-eefb-4921-8baf-99504e00f740",
   "metadata": {},
   "outputs": [
    {
     "data": {
      "text/plain": [
       "{'nome': 'João Silva', 'idade': 100}"
      ]
     },
     "execution_count": 64,
     "metadata": {},
     "output_type": "execute_result"
    }
   ],
   "source": [
    "joao"
   ]
  },
  {
   "cell_type": "code",
   "execution_count": 65,
   "id": "ebdc2f81-dcd5-4307-956b-cfd252bf8791",
   "metadata": {},
   "outputs": [],
   "source": [
    "joao[\"telefone\"] = tel"
   ]
  },
  {
   "cell_type": "code",
   "execution_count": 66,
   "id": "27cc559f-1f9a-47d2-8875-4d8239821435",
   "metadata": {},
   "outputs": [],
   "source": [
    "del joao[\"telefone\"]"
   ]
  },
  {
   "cell_type": "code",
   "execution_count": 67,
   "id": "97b8ed46-7486-4b52-a8fb-297728b4cfce",
   "metadata": {},
   "outputs": [],
   "source": [
    "# Problema: temos uma lista de palavras e queremos ordena-las pela primeira letra.\n",
    "\n",
    "def ordena_palavras(palavras):\n",
    "    _temp_dict = {}\n",
    "    for palavra in palavras:\n",
    "        letra = palavra[0]\n",
    "        if letra not in _temp_dict:\n",
    "            _temp_dict[letra] = [palavra]\n",
    "        else:\n",
    "            _temp_dict[letra].append(palavra)\n",
    "    return _temp_dict\n"
   ]
  },
  {
   "cell_type": "code",
   "execution_count": 68,
   "id": "a2e3d4de-0171-469a-8f42-3f3483c6ac58",
   "metadata": {},
   "outputs": [],
   "source": [
    "palavras = ['ba', 'ca', 'aa', 'ce']"
   ]
  },
  {
   "cell_type": "code",
   "execution_count": 69,
   "id": "79c633cb-d634-4091-bd11-c92e272d086e",
   "metadata": {},
   "outputs": [
    {
     "data": {
      "text/plain": [
       "{'b': ['ba'], 'c': ['ca', 'ce'], 'a': ['aa']}"
      ]
     },
     "execution_count": 69,
     "metadata": {},
     "output_type": "execute_result"
    }
   ],
   "source": [
    "ordena_palavras(palavras)"
   ]
  },
  {
   "cell_type": "code",
   "execution_count": 70,
   "id": "bda9bee1-7828-4964-bcc3-690c67ed64a9",
   "metadata": {},
   "outputs": [],
   "source": [
    "pessoas = {\n",
    "    \"joao\": {\"nome\": \"João Silva\", \n",
    "             \"idade\": 100},\n",
    "    \"renata\": {\"nome\": \"Renata Silva\",\n",
    "              \"idade\": 32}\n",
    "}"
   ]
  },
  {
   "cell_type": "code",
   "execution_count": 71,
   "id": "3c62fe04-7a5c-4460-ba2e-94e767701e41",
   "metadata": {},
   "outputs": [
    {
     "data": {
      "text/plain": [
       "{'joao': {'nome': 'João Silva', 'idade': 100},\n",
       " 'renata': {'nome': 'Renata Silva', 'idade': 32}}"
      ]
     },
     "execution_count": 71,
     "metadata": {},
     "output_type": "execute_result"
    }
   ],
   "source": [
    "pessoas"
   ]
  },
  {
   "cell_type": "code",
   "execution_count": 72,
   "id": "ce70c295-02cd-454c-8056-bc950102297a",
   "metadata": {},
   "outputs": [
    {
     "data": {
      "text/plain": [
       "32"
      ]
     },
     "execution_count": 72,
     "metadata": {},
     "output_type": "execute_result"
    }
   ],
   "source": [
    "pessoas[\"renata\"][\"idade\"]"
   ]
  },
  {
   "cell_type": "markdown",
   "id": "d7b28dba-f596-4ff0-be52-94049b0f1be8",
   "metadata": {},
   "source": [
    "Dada uma lista com n-1 elementos inteiros, determine o elemento de maior valor da lista. Não use nenhuma função pronta do Python. Construa a sua."
   ]
  },
  {
   "cell_type": "code",
   "execution_count": 73,
   "id": "a8356068-08e5-4873-a4a8-b02ec8dd2c2d",
   "metadata": {},
   "outputs": [],
   "source": [
    "lista = [-2, -4, -3, -5, -1]"
   ]
  },
  {
   "cell_type": "code",
   "execution_count": 74,
   "id": "e9ce55fe-7083-48bb-a106-fda197b4609c",
   "metadata": {},
   "outputs": [],
   "source": [
    "def get_max(x):\n",
    "    _max = None\n",
    "    for i in x:\n",
    "        if (_max is None or _max < i):\n",
    "            _max = i\n",
    "        else:\n",
    "            _max = _max\n",
    "    return _max"
   ]
  },
  {
   "cell_type": "code",
   "execution_count": 75,
   "id": "7dfe7f1e-a9cd-4a22-b12a-efb6c3e49e59",
   "metadata": {},
   "outputs": [
    {
     "name": "stdout",
     "output_type": "stream",
     "text": [
      "-1\n"
     ]
    }
   ],
   "source": [
    "print(get_max(lista))"
   ]
  },
  {
   "cell_type": "code",
   "execution_count": 77,
   "id": "a5ccdc24-f185-40a3-aeb4-759b759a699e",
   "metadata": {},
   "outputs": [],
   "source": [
    "def ordenar_lista(x):\n",
    "    \"\"\" dada uma lista x, ordena seus elementos em ordem crescente\n",
    "    \"\"\"\n",
    "    _tmp_list = []\n",
    "    _iter_i = 0\n",
    "    # num é um elemento da lista\n",
    "    while(_tmp_i < num):\n",
    "        _iter_j = _iter_i + i\n",
    "        while(_iter_j < num):\n",
    "            if(x[_iter_i] > x[_iter_j]):\n",
    "                # operação de swap\n",
    "                temp = x[_iter_i]\n",
    "                x[_iter_i] = x[_iter_j]\n",
    "                x[_iter_i] = temp\n",
    "            _iter_j += 1\n",
    "        _iter_i += 1\n",
    "    \n",
    "    pass"
   ]
  },
  {
   "cell_type": "code",
   "execution_count": null,
   "id": "cf327426-3fc1-4a2d-8577-31db21304271",
   "metadata": {},
   "outputs": [],
   "source": []
  }
 ],
 "metadata": {
  "kernelspec": {
   "display_name": "Python 3 (ipykernel)",
   "language": "python",
   "name": "python3"
  },
  "language_info": {
   "codemirror_mode": {
    "name": "ipython",
    "version": 3
   },
   "file_extension": ".py",
   "mimetype": "text/x-python",
   "name": "python",
   "nbconvert_exporter": "python",
   "pygments_lexer": "ipython3",
   "version": "3.9.12"
  }
 },
 "nbformat": 4,
 "nbformat_minor": 5
}
