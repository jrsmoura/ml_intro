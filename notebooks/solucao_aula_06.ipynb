{
 "cells": [
  {
   "cell_type": "markdown",
   "id": "d1c4edcb-8797-448f-9b93-046064468301",
   "metadata": {},
   "source": [
    "# Atividade Prática do dia 20.09.2022\n",
    "### Solução\n",
    "\n",
    "Usar o dataset Iris para treinar diferentes modelos de classificação (a sua escolha), para treinar e realizar um Fine Tuning em cada um deles, e então passar o `best_estimator_` de cada um deles para o `VotingClassifier()` para se obter o melhor model para o dataset.\n"
   ]
  },
  {
   "cell_type": "code",
   "execution_count": 70,
   "id": "15671f5c-fdcc-4cb4-94af-5a219155ec51",
   "metadata": {},
   "outputs": [],
   "source": [
    "# Bibliotecas básicas\n",
    "import numpy as np\n",
    "import pandas as pd\n",
    "\n",
    "# bibliotecas úteis do sklearn\n",
    "from sklearn import datasets\n",
    "from sklearn.preprocessing import StandardScaler\n",
    "\n",
    "# Modelos a serem testados\n",
    "from sklearn.linear_model import LogisticRegression\n",
    "from sklearn.tree import DecisionTreeClassifier\n",
    "from sklearn.ensemble import RandomForestClassifier\n",
    "from sklearn.ensemble import VotingClassifier\n",
    "\n",
    "# Métodos para avaliação dos modelos\n",
    "from sklearn.model_selection import cross_val_score\n",
    "from sklearn.metrics import accuracy_score\n",
    "\n",
    "# GridSearch\n",
    "from sklearn.experimental import enable_halving_search_cv  # noqa\n",
    "from sklearn.model_selection import HalvingGridSearchCV"
   ]
  },
  {
   "cell_type": "markdown",
   "id": "c5b2f401-f7db-4d5d-8def-33c1ee5e163f",
   "metadata": {},
   "source": [
    "# Preparação dos dados\n",
    "\n",
    "Vamos começar importando o dataset Iris e aplicando o `StandarScaler()`."
   ]
  },
  {
   "cell_type": "code",
   "execution_count": 71,
   "id": "b6353994-bf8d-4470-80f5-0619db824ade",
   "metadata": {},
   "outputs": [],
   "source": [
    "iris = datasets.load_iris()"
   ]
  },
  {
   "cell_type": "code",
   "execution_count": 72,
   "id": "ff5fb033-2b9a-49e4-aaa9-502a0ba89b97",
   "metadata": {},
   "outputs": [
    {
     "data": {
      "text/plain": [
       "array([[1.4, 0.2],\n",
       "       [1.4, 0.2],\n",
       "       [1.3, 0.2],\n",
       "       [1.5, 0.2],\n",
       "       [1.4, 0.2]])"
      ]
     },
     "execution_count": 72,
     "metadata": {},
     "output_type": "execute_result"
    }
   ],
   "source": [
    "X = iris[\"data\"][:, (2, 3)]\n",
    "X[:5]"
   ]
  },
  {
   "cell_type": "code",
   "execution_count": 73,
   "id": "154a7628-10bb-44e3-81b0-1a634bf6a854",
   "metadata": {},
   "outputs": [
    {
     "data": {
      "text/plain": [
       "array([0., 0., 0., 0., 0.])"
      ]
     },
     "execution_count": 73,
     "metadata": {},
     "output_type": "execute_result"
    }
   ],
   "source": [
    "y = (iris[\"target\"]==2).astype(np.float64)\n",
    "y[:5]"
   ]
  },
  {
   "cell_type": "code",
   "execution_count": 74,
   "id": "99b47bb4-4a93-45e4-83ec-b57839f83759",
   "metadata": {},
   "outputs": [
    {
     "data": {
      "text/plain": [
       "StandardScaler()"
      ]
     },
     "execution_count": 74,
     "metadata": {},
     "output_type": "execute_result"
    }
   ],
   "source": [
    "scaler = StandardScaler()\n",
    "scaler.fit(X)"
   ]
  },
  {
   "cell_type": "code",
   "execution_count": null,
   "id": "1a3e209f-6b1a-4bf3-b44a-208a4ed103c6",
   "metadata": {},
   "outputs": [],
   "source": []
  },
  {
   "cell_type": "markdown",
   "id": "f086f7fa-2cfc-4447-a861-8cdade6acb0d",
   "metadata": {},
   "source": [
    "# Fine Tunig dos modelos\n",
    "\n",
    "Agora vamos treinar e fazer o **fine tuning* de  3 diferentes modelos que serão passados para o `VotingClassifuier()` para determinarmos qual o modelo que está realizando a melhor previsão.\n",
    "\n",
    "Modelos a serem usados:\n",
    "\n",
    "    - Random Forest\n",
    "    - Logistic Regression\n",
    "    - Decision Tree"
   ]
  },
  {
   "cell_type": "code",
   "execution_count": 75,
   "id": "81d5c8be-cb0a-4118-8a3a-2704f3eb8147",
   "metadata": {},
   "outputs": [
    {
     "name": "stdout",
     "output_type": "stream",
     "text": [
      "n_iterations: 5\n",
      "n_required_iterations: 7\n",
      "n_possible_iterations: 5\n",
      "min_resources_: 1\n",
      "max_resources_: 30\n",
      "aggressive_elimination: False\n",
      "factor: 2\n",
      "----------\n",
      "iter: 0\n",
      "n_candidates: 87\n",
      "n_resources: 1\n",
      "Fitting 5 folds for each of 87 candidates, totalling 435 fits\n",
      "----------\n",
      "iter: 1\n",
      "n_candidates: 44\n",
      "n_resources: 2\n",
      "Fitting 5 folds for each of 44 candidates, totalling 220 fits\n",
      "----------\n",
      "iter: 2\n",
      "n_candidates: 22\n",
      "n_resources: 4\n",
      "Fitting 5 folds for each of 22 candidates, totalling 110 fits\n",
      "----------\n",
      "iter: 3\n",
      "n_candidates: 11\n",
      "n_resources: 8\n",
      "Fitting 5 folds for each of 11 candidates, totalling 55 fits\n",
      "----------\n",
      "iter: 4\n",
      "n_candidates: 6\n",
      "n_resources: 16\n",
      "Fitting 5 folds for each of 6 candidates, totalling 30 fits\n"
     ]
    }
   ],
   "source": [
    "# Random Forest\n",
    "x = [i for i in range(1, 30)]\n",
    "\n",
    "rf_param_grid = {'max_depth': x,\n",
    "                 'min_samples_split': [2, 5, 10]}\n",
    "\n",
    "base_estimator_rf = RandomForestClassifier(random_state=42)\n",
    "\n",
    "rf_sh = HalvingGridSearchCV(base_estimator_rf, \n",
    "                            rf_param_grid, \n",
    "                            cv=5, factor=2, \n",
    "                            resource='n_estimators',\n",
    "                            max_resources=30, \n",
    "                            verbose=True, n_jobs=-1).fit(X, y)"
   ]
  },
  {
   "cell_type": "code",
   "execution_count": 76,
   "id": "c48abec9-e618-43a6-90a4-7669c3de3ed3",
   "metadata": {},
   "outputs": [
    {
     "data": {
      "text/plain": [
       "RandomForestClassifier(max_depth=23, min_samples_split=10, n_estimators=16,\n",
       "                       random_state=42)"
      ]
     },
     "execution_count": 76,
     "metadata": {},
     "output_type": "execute_result"
    }
   ],
   "source": [
    "# salvamos o resultado do fune tuning\n",
    "rf_model = rf_sh.best_estimator_\n",
    "rf_model"
   ]
  },
  {
   "cell_type": "code",
   "execution_count": 77,
   "id": "65d459ba-6414-44d4-bc73-0e16976ba77f",
   "metadata": {},
   "outputs": [
    {
     "name": "stdout",
     "output_type": "stream",
     "text": [
      "n_iterations: 2\n",
      "n_required_iterations: 2\n",
      "n_possible_iterations: 2\n",
      "min_resources_: 50\n",
      "max_resources_: 150\n",
      "aggressive_elimination: False\n",
      "factor: 3\n",
      "----------\n",
      "iter: 0\n",
      "n_candidates: 6\n",
      "n_resources: 50\n",
      "Fitting 5 folds for each of 6 candidates, totalling 30 fits\n",
      "----------\n",
      "iter: 1\n",
      "n_candidates: 2\n",
      "n_resources: 150\n",
      "Fitting 5 folds for each of 2 candidates, totalling 10 fits\n"
     ]
    }
   ],
   "source": [
    "# Decision Tree\n",
    "\n",
    "tree_param_grid = {'max_depth': [2,4,6,8,10,12]}\n",
    "\n",
    "base_estimator_tree = DecisionTreeClassifier()\n",
    "\n",
    "n_components = list(range(1,X.shape[1]+1,1))\n",
    "\n",
    "tree_sh = HalvingGridSearchCV(base_estimator_tree, tree_param_grid, verbose=True, n_jobs=-1).fit(X, y)"
   ]
  },
  {
   "cell_type": "code",
   "execution_count": 78,
   "id": "40aeed85-e081-441f-b96b-e9d55f9e9938",
   "metadata": {},
   "outputs": [
    {
     "data": {
      "text/plain": [
       "DecisionTreeClassifier(max_depth=10)"
      ]
     },
     "execution_count": 78,
     "metadata": {},
     "output_type": "execute_result"
    }
   ],
   "source": [
    "# Salvamos o resultado\n",
    "tree_model = tree_sh.best_estimator_\n",
    "tree_model"
   ]
  },
  {
   "cell_type": "code",
   "execution_count": 91,
   "id": "67b77035-eed3-44dc-8741-e2d8fc15684d",
   "metadata": {},
   "outputs": [
    {
     "name": "stdout",
     "output_type": "stream",
     "text": [
      "n_iterations: 2\n",
      "n_required_iterations: 3\n",
      "n_possible_iterations: 2\n",
      "min_resources_: 20\n",
      "max_resources_: 150\n",
      "aggressive_elimination: False\n",
      "factor: 3\n",
      "----------\n",
      "iter: 0\n",
      "n_candidates: 20\n",
      "n_resources: 20\n",
      "Fitting 5 folds for each of 20 candidates, totalling 100 fits\n",
      "----------\n",
      "iter: 1\n",
      "n_candidates: 7\n",
      "n_resources: 60\n",
      "Fitting 5 folds for each of 7 candidates, totalling 35 fits\n"
     ]
    }
   ],
   "source": [
    "logist_param_grid = {\n",
    "        'C' : np.logspace(-4, 4, 20),\n",
    "#        'solver' : ['newton-cg', 'lbfgs', 'liblinear', 'sag', 'saga']\n",
    "        }\n",
    "base_estimator_logist = LogisticRegression()\n",
    "\n",
    "logist_sh = HalvingGridSearchCV(base_estimator_logist, param_grid=logist_param_grid, cv = 5, verbose=True, n_jobs=-1).fit(X, y)\n"
   ]
  },
  {
   "cell_type": "code",
   "execution_count": 92,
   "id": "517ba26d-3bee-4d5a-9612-5a596f9dde99",
   "metadata": {},
   "outputs": [
    {
     "data": {
      "text/plain": [
       "LogisticRegression(C=0.615848211066026)"
      ]
     },
     "execution_count": 92,
     "metadata": {},
     "output_type": "execute_result"
    }
   ],
   "source": [
    "logist_model = logist_sh.best_estimator_\n",
    "logist_model"
   ]
  },
  {
   "cell_type": "markdown",
   "id": "b5b5548a-3c15-41e0-b951-0c309e641159",
   "metadata": {},
   "source": [
    "Agora podemos pegar os 3 modelos treinados e ajustados acima e passar para o `VotingClassifier()`"
   ]
  },
  {
   "cell_type": "code",
   "execution_count": 93,
   "id": "a8637ec1-a135-42c9-b339-83ccb42805f1",
   "metadata": {},
   "outputs": [],
   "source": [
    "rnf_clf = rf_model\n",
    "lgr_clf = logist_model\n",
    "det_clf = tree_model\n",
    "voting_clf = VotingClassifier(\n",
    "    estimators=[(\"rnf\", rnf_clf), (\"det\", det_clf), (\"lf\", lgr_clf)],\n",
    "    voting=\"hard\"\n",
    ").fit(X, y)"
   ]
  },
  {
   "cell_type": "code",
   "execution_count": 94,
   "id": "84aad813-3e92-4a94-87c9-9c1e9b6a3dd7",
   "metadata": {},
   "outputs": [
    {
     "name": "stdout",
     "output_type": "stream",
     "text": [
      "Accuracy: 0.96 (+/- 0.03) [RandomForestClassifier]\n",
      "Accuracy: 0.93 (+/- 0.05) [DecisionTreeClassifier]\n",
      "Accuracy: 0.97 (+/- 0.02) [LogisticRegression]\n",
      "Accuracy: 0.97 (+/- 0.02) [VotingClassifier]\n"
     ]
    }
   ],
   "source": [
    "for clf in (rnf_clf, det_clf, lgr_clf, voting_clf):\n",
    "    scores = cross_val_score(clf, X, y, scoring='accuracy', cv=5)\n",
    "    print(\"Accuracy: %0.2f (+/- %0.2f) [%s]\" % (scores.mean(), scores.std(), clf.__class__.__name__))"
   ]
  },
  {
   "cell_type": "code",
   "execution_count": null,
   "id": "4984e790-d628-412d-b2f1-2560bf735599",
   "metadata": {},
   "outputs": [],
   "source": []
  },
  {
   "cell_type": "code",
   "execution_count": null,
   "id": "c41daa2a-8357-4c46-87bc-1123967ec02c",
   "metadata": {},
   "outputs": [],
   "source": []
  }
 ],
 "metadata": {
  "kernelspec": {
   "display_name": "Python 3 (ipykernel)",
   "language": "python",
   "name": "python3"
  },
  "language_info": {
   "codemirror_mode": {
    "name": "ipython",
    "version": 3
   },
   "file_extension": ".py",
   "mimetype": "text/x-python",
   "name": "python",
   "nbconvert_exporter": "python",
   "pygments_lexer": "ipython3",
   "version": "3.9.12"
  }
 },
 "nbformat": 4,
 "nbformat_minor": 5
}
